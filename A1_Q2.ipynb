{
 "cells": [
  {
   "cell_type": "code",
   "execution_count": 41,
   "id": "scheduled-bundle",
   "metadata": {},
   "outputs": [],
   "source": [
    "import numpy as np\n",
    "import matplotlib.pyplot as plt\n",
    "from matplotlib import colors"
   ]
  },
  {
   "cell_type": "markdown",
   "id": "junior-gender",
   "metadata": {},
   "source": [
    "### Designing the Kalman Filter\n",
    "\n",
    "Modelling as,\n",
    "\n",
    "$$ X_{t+1} = A_{t}X_{t} + B_{t}U_{t} + \\epsilon_{t} $$\n",
    "$$ Z_t = C_{t}X_{t} + \\delta_{t} $$"
   ]
  },
  {
   "cell_type": "code",
   "execution_count": 44,
   "id": "photographic-cannon",
   "metadata": {},
   "outputs": [],
   "source": [
    "def parameters():\n",
    "    A = np.identity(4)\n",
    "    A[0,2], A[1,3] = 1,1                              # VERIFY THIS!!! (Time steps are not included!)\n",
    "\n",
    "    B = np.array([[1/2,0],[0,1/2],[1,0],[0,1]])     # VERIFY THIS!!!  (Should be 1/2 * a * t^2 )\n",
    "\n",
    "    meu_q = np.zeros((4))\n",
    "    cov_q = np.identity(4)\n",
    "    cov_q[2,2],cov_q[3,3] = 0.0001,0.0001\n",
    "    # To genrate => ep = np.random.multivariate_normal(meu_q,cov_q,N)\n",
    "\n",
    "    C = np.array([[1,0,0,0],[0,1,0,0]])\n",
    "    meu_r = np.zeros((2))\n",
    "    cov_r = 100*np.identity(2)\n",
    "    # To genrate => ep = np.random.multivariate_normal(meu_r,cov_r,N)\n",
    "\n",
    "    T = 200     # Total time steps\n",
    "    \n",
    "    return (A,B,meu_q,cov_q,C,meu_r,cov_r,T)\n",
    "\n",
    "# A,B,meu_q,cov_q,C,meu_r,cov_r,T = parameters()\n",
    "# params = parameters()"
   ]
  },
  {
   "cell_type": "markdown",
   "id": "minute-pilot",
   "metadata": {},
   "source": [
    "### 2. (a)  Simulate motion and sensor model, and plot the actual and observed trajectory."
   ]
  },
  {
   "cell_type": "code",
   "execution_count": 50,
   "id": "worst-favor",
   "metadata": {},
   "outputs": [
    {
     "data": {
      "image/png": "[encoded data removed]",
      "text/plain": [
       "<Figure size 432x288 with 1 Axes>"
      ]
     },
     "metadata": {
      "needs_background": "light"
     },
     "output_type": "display_data"
    },
    {
     "data": {
      "image/png": "[encoded data removed]",
      "text/plain": [
       "<Figure size 432x288 with 1 Axes>"
      ]
     },
     "metadata": {
      "needs_background": "light"
     },
     "output_type": "display_data"
    }
   ],
   "source": [
    "def zero_initializer():\n",
    "    del_xy = np.zeros((2))\n",
    "    X = np.zeros((4))\n",
    "    return(del_xy,X)\n",
    "\n",
    "\n",
    "def time_series(U, X_init , params):\n",
    "    \n",
    "    A,B,meu_q,cov_q,C,meu_r,cov_r,T = params\n",
    "\n",
    "    # Assuming deltax and deltay are 0         # CAN/DO WE MAKE THIS ASSUMPTION\n",
    "    del_xy = U\n",
    "    \n",
    "    ep_q = np.random.multivariate_normal(meu_q,cov_q)\n",
    "    ep_r = np.random.multivariate_normal(meu_r,cov_r)\n",
    "    \n",
    "    X = np.zeros((T,4))\n",
    "    X[0,:] = X_init\n",
    "    X_obs = np.zeros((T,2))\n",
    "    X_obs[0,:] = np.dot(C,X[0,:]) + ep_r\n",
    "    \n",
    "    \n",
    "    \n",
    "    X_obs[0,:] = np.random.multivariate_normal(meu_r,cov_r)\n",
    "\n",
    "\n",
    "    for i in range(1,T):\n",
    "        \n",
    "        X[i,:] = np.dot(A,X[i-1,:])+np.dot(B,del_xy) + ep_q\n",
    "\n",
    "        X_obs[i,:] = np.dot(C,X[i,:]) + ep_r\n",
    "    \n",
    "    return (X,X_obs)\n",
    "\n",
    "params = parameters()\n",
    "del_xy,X_init = zero_initializer()\n",
    "X,X_obs = time_series(del_xy,X_init,params)\n",
    "\n",
    "def plotter(X,X_obs):\n",
    "\n",
    "    x, y = X[:,0],X[:,1]\n",
    "    plt.plot(x, y, 'x')\n",
    "    plt.axis('equal')\n",
    "    plt.show()\n",
    "\n",
    "    xd, yd = X_obs[:,0],X_obs[:,1]\n",
    "    plt.plot(xd, yd, 'x')\n",
    "    plt.axis('equal')\n",
    "    plt.show()\n",
    "\n",
    "plotter(X,X_obs)"
   ]
  },
  {
   "cell_type": "markdown",
   "id": "attended-ready",
   "metadata": {},
   "source": [
    "### 2.(b) Estimation of Vehicle state\n",
    "We use Kalman filter form of Baye's filter for the implementing the estimation of the vehicle's state.\n",
    "\n",
    "As mentioned before, modelling as,\n",
    "\n",
    "$$ X_{t+1} = A_{t}X_{t} + B_{t}U_{t} + \\epsilon_{t} $$\n",
    "$$ Z_t = C_{t}X_{t} + \\delta_{t} $$"
   ]
  },
  {
   "cell_type": "code",
   "execution_count": null,
   "id": "changing-queue",
   "metadata": {},
   "outputs": [],
   "source": [
    "X_init = np.array([10,10,1,1])\n"
   ]
  }
 ],
 "metadata": {
  "kernelspec": {
   "display_name": "Python 3",
   "language": "python",
   "name": "python3"
  },
  "language_info": {
   "codemirror_mode": {
    "name": "ipython",
    "version": 3
   },
   "file_extension": ".py",
   "mimetype": "text/x-python",
   "name": "python",
   "nbconvert_exporter": "python",
   "pygments_lexer": "ipython3",
   "version": "3.8.5"
  }
 },
 "nbformat": 4,
 "nbformat_minor": 5
}
