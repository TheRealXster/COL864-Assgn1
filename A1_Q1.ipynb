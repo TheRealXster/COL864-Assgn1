{
 "cells": [
  {
   "cell_type": "code",
   "execution_count": 4,
   "id": "healthy-danish",
   "metadata": {},
   "outputs": [],
   "source": [
    "import numpy as np\n",
    "import matplotlib.pyplot as plt\n",
    "from matplotlib import colors"
   ]
  },
  {
   "cell_type": "code",
   "execution_count": 51,
   "id": "collectible-environment",
   "metadata": {},
   "outputs": [],
   "source": [
    "# Constants\n",
    "STEP_COUNT = 25\n",
    "GRID_SIZE = 30"
   ]
  },
  {
   "cell_type": "code",
   "execution_count": 73,
   "id": "paperback-conflict",
   "metadata": {},
   "outputs": [
    {
     "name": "stdout",
     "output_type": "stream",
     "text": [
      "[[24  2]\n",
      " [24  3]\n",
      " [24  4]\n",
      " [24  5]\n",
      " [25  5]\n",
      " [24  5]\n",
      " [24  6]\n",
      " [24  7]\n",
      " [25  7]\n",
      " [26  7]\n",
      " [27  7]\n",
      " [27  8]\n",
      " [28  8]\n",
      " [27  8]\n",
      " [28  8]\n",
      " [28  9]\n",
      " [28  8]\n",
      " [29  8]\n",
      " [28  8]\n",
      " [28  9]\n",
      " [27  9]\n",
      " [27 10]\n",
      " [28 10]\n",
      " [27 10]\n",
      " [26 10]\n",
      " [26 11]]\n"
     ]
    },
    {
     "data": {
      "text/plain": [
       "array([[24,  2],\n",
       "       [24,  3],\n",
       "       [24,  4],\n",
       "       [24,  5],\n",
       "       [25,  5],\n",
       "       [24,  5],\n",
       "       [24,  6],\n",
       "       [24,  7],\n",
       "       [25,  7],\n",
       "       [26,  7],\n",
       "       [27,  7],\n",
       "       [27,  8],\n",
       "       [28,  8],\n",
       "       [27,  8],\n",
       "       [28,  8],\n",
       "       [28,  9],\n",
       "       [28,  8],\n",
       "       [29,  8],\n",
       "       [28,  8],\n",
       "       [28,  9],\n",
       "       [27,  9],\n",
       "       [27, 10],\n",
       "       [28, 10],\n",
       "       [27, 10],\n",
       "       [26, 10],\n",
       "       [26, 11]])"
      ]
     },
     "execution_count": 73,
     "metadata": {},
     "output_type": "execute_result"
    }
   ],
   "source": [
    "def path_generator():\n",
    "    x_init = np.random.randint(0,29)\n",
    "    y_init = np.random.randint(0,29)\n",
    "    x_cur,y_cur = x_init,y_init\n",
    "    x,y = [x_init],[y_init]\n",
    "    for i in range(STEP_COUNT):\n",
    "        u = np.random.uniform(low=0.0,high=100.0,size=None)\n",
    "        # U 0.4\n",
    "        # D 0.1\n",
    "        # L 0.2\n",
    "        # R 0.3\n",
    "        if(x_cur==0 and y_cur==0):\n",
    "            # RU\n",
    "            if(u<=100*3/7): x_cur+=1\n",
    "            else: y_cur+=1\n",
    "            \n",
    "        elif(x_cur==0 and y_cur==GRID_SIZE-1):\n",
    "            # RD\n",
    "            if(u<=100*3/4): x_cur+=1\n",
    "            else: y_cur-=1\n",
    "                \n",
    "        elif(x_cur==GRID_SIZE-1 and y_cur==0):\n",
    "            # LU\n",
    "            if(u<=100*2/6): x_cur-=1\n",
    "            else: y_cur+=1\n",
    "            \n",
    "        elif(x_cur==GRID_SIZE-1 and y_cur==GRID_SIZE-1):\n",
    "            # LD\n",
    "            if(u<=100*2/3): x_cur-=1\n",
    "            else: y_cur-=1\n",
    "                \n",
    "        \n",
    "        \n",
    "        elif(x_cur==0):\n",
    "            # RDU\n",
    "            if(u<=100*3/8): x_cur+=1\n",
    "            elif(u<=100*4/8): y_cur-=1\n",
    "            else: y_cur+=1\n",
    "                \n",
    "        elif(x_cur==GRID_SIZE-1):\n",
    "            # LDU\n",
    "            if(u<=100*2/7): x_cur-=1\n",
    "            elif(u<=100*3/7): y_cur-=1\n",
    "            else: y_cur+=1\n",
    "                \n",
    "        elif(y_cur==0):\n",
    "            # LRU\n",
    "            if(u<=100*2/9): x_cur-=1\n",
    "            elif(u<=100*5/9): x_cur+=1\n",
    "            else: y_cur+=1\n",
    "                \n",
    "        elif(y_cur==GRID_SIZE-1):\n",
    "            # LRD\n",
    "            if(u<=100*2/6): x_cur-=1\n",
    "            elif(u<=100*5/6): x_cur+=1\n",
    "            else: y_cur-=1\n",
    "                \n",
    "        else:\n",
    "            # LRDU\n",
    "            if(u<=100*2/10): x_cur-=1\n",
    "            elif(u<=100*5/10): x_cur+=1\n",
    "            elif(u<=100*6/10): y_cur-=1\n",
    "            else: y_cur+=1\n",
    "    \n",
    "        x.append(x_cur)\n",
    "        y.append(y_cur)\n",
    "    x = np.array(x)\n",
    "    y = np.array(y)\n",
    "    z = np.array(list(zip(x,y)))\n",
    "    print(z)\n",
    "    return (z)\n",
    "path_generator()"
   ]
  },
  {
   "cell_type": "code",
   "execution_count": null,
   "id": "internal-cleaner",
   "metadata": {},
   "outputs": [],
   "source": [
    "data = path_generator()\n"
   ]
  },
  {
   "cell_type": "code",
   "execution_count": 2,
   "id": "capable-memory",
   "metadata": {},
   "outputs": [
    {
     "data": {
      "image/png": "[encoded data removed]",
      "text/plain": [
       "<Figure size 432x288 with 1 Axes>"
      ]
     },
     "metadata": {
      "needs_background": "light"
     },
     "output_type": "display_data"
    }
   ],
   "source": [
    "data = np.random.rand(10, 10) * 20\n",
    "cmap = colors.ListedColormap(['red', 'blue'])\n",
    "bounds = [0,10,20]\n",
    "norm = colors.BoundaryNorm(bounds, cmap.N)\n",
    "fig, ax = plt.subplots()\n",
    "ax.imshow(data, cmap=cmap, norm=norm)\n",
    "ax.grid(which='major', axis='both', linestyle='-', linewidth=2)\n",
    "ax.set_xticks(np.arange(-.5, 10, 1));\n",
    "ax.set_yticks(np.arange(-.5, 10, 1));\n",
    "\n",
    "plt.show()"
   ]
  },
  {
   "cell_type": "code",
   "execution_count": 3,
   "id": "hindu-vanilla",
   "metadata": {},
   "outputs": [
    {
     "name": "stdout",
     "output_type": "stream",
     "text": [
      "[[10.22793982  7.18038805 10.69374266  2.26176139 17.21202253 11.07551709\n",
      "   6.44241768  4.20512098 12.50924738 17.21061766]\n",
      " [12.36607717 15.3907668   2.39324336  8.37350869  1.47926983  6.09002168\n",
      "  14.92246803  6.63748769  0.14493371  1.91877868]\n",
      " [16.1946491   5.11242149  5.34434434 15.33866438 10.1750439  15.07639938\n",
      "  17.91624827 16.76531526 19.28591294 10.69156879]\n",
      " [ 4.22866982  5.50179703 19.91199184 14.47542245 18.69647874  5.06524934\n",
      "   0.79204505  5.05786426 15.63125666 10.89006674]\n",
      " [18.4734973   9.36510048 19.1877643  17.95997978  0.08267219 16.95603788\n",
      "   7.62520011 19.61102179 14.99018004  7.33294045]\n",
      " [ 7.47788688  6.61827804  5.54430098 13.52992633  4.42047105 15.00322415\n",
      "  15.23490661  6.39959926 18.00457207  1.48593043]\n",
      " [ 2.64668796 13.0429333   5.84466159  6.7565263   3.06941596  2.26974469\n",
      "  13.68542022  0.96080123  8.49228747 13.40586308]\n",
      " [19.2673355  19.07609049 18.44698129 13.20039176 14.23736536  4.72178659\n",
      "   1.52272596  4.59835484  5.64740977 13.35994504]\n",
      " [ 0.32262973  0.78634828  9.38780957  4.62969968  6.44889459  5.84549255\n",
      "  16.11286214  9.83458036  0.39481965 10.1660359 ]\n",
      " [14.35803038 19.73636736 18.73198127 19.28292826 18.63232473  9.70711273\n",
      "   7.46322633  4.43792689 14.35702432  4.06250668]]\n"
     ]
    }
   ],
   "source": [
    "print(data)"
   ]
  },
  {
   "cell_type": "code",
   "execution_count": 2,
   "id": "abstract-institute",
   "metadata": {},
   "outputs": [],
   "source": [
    "def move(position):\n",
    "    num = np.random.randint(10) + 1\n",
    "    print(num)\n",
    "    newPos = position.copy()\n",
    "    \n",
    "    #up, down, left, right\n",
    "    if(num <= 4):\n",
    "        newPos[1] += 1\n",
    "    elif(num <= 5):\n",
    "        newPos[1] -= 1\n",
    "    elif(num <= 7):\n",
    "        newPos[0] -= 1\n",
    "    else:\n",
    "        newPos[0] += 1\n",
    "    \n",
    "    if(newPos[0] < 0 or newPos[0] > 29 or newPos[1] < 0 or newPos[1] > 29): return position, False\n",
    "    return newPos, True"
   ]
  },
  {
   "cell_type": "code",
   "execution_count": 5,
   "metadata": {},
   "outputs": [
    {
     "output_type": "stream",
     "name": "stdout",
     "text": [
      "4\n1\n3\n9\n1\n6\n5\n8\n4\n3\n9\n1\n4\n4\n8\n3\n5\n6\n10\n6\n8\n7\n10\n6\n6\n[[0. 1.]\n [0. 2.]\n [0. 3.]\n [1. 3.]\n [1. 4.]\n [0. 4.]\n [0. 3.]\n [1. 3.]\n [1. 4.]\n [1. 5.]\n [2. 5.]\n [2. 6.]\n [2. 7.]\n [2. 8.]\n [3. 8.]\n [3. 9.]\n [3. 8.]\n [2. 8.]\n [3. 8.]\n [2. 8.]\n [3. 8.]\n [2. 8.]\n [3. 8.]\n [2. 8.]\n [1. 8.]]\n"
     ]
    }
   ],
   "source": [
    "position = np.zeros(2)\n",
    "\n",
    "motionModel = np.zeros((25, 2))\n",
    "sensorModel = np.zeros((25, 4))\n",
    "\n",
    "for i in range(0, 25):\n",
    "    newPos, flag = move(position)\n",
    "    position[0:] = newPos[0:]\n",
    "    motionModel[i][0:] = newPos\n",
    "\n",
    "print(motionModel)"
   ]
  }
 ],
 "metadata": {
  "kernelspec": {
   "display_name": "Python 3",
   "language": "python",
   "name": "python3"
  },
  "language_info": {
   "codemirror_mode": {
    "name": "ipython",
    "version": 3
   },
   "file_extension": ".py",
   "mimetype": "text/x-python",
   "name": "python",
   "nbconvert_exporter": "python",
   "pygments_lexer": "ipython3",
   "version": "3.8.7-final"
  }
 },
 "nbformat": 4,
 "nbformat_minor": 5
}